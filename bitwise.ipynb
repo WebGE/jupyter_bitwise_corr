{
 "cells": [
  {
   "cell_type": "markdown",
   "metadata": {},
   "source": [
    "# Opération sur les bits en Python - <span style=\"color:blue;\">CORRECTION</span>"
   ]
  },
  {
   "cell_type": "markdown",
   "metadata": {},
   "source": [
    "**Ressources** : <button><a style=\"text-decoration:none\" href=\"https://webge.fr/dokuwiki/doku.php?id=python:accueilpython\" target=\"_blank\">Wiki Python sur WebGE</a></button>\n",
    "<button><a href=\"https://webge.fr/dokuwiki/doku.php?id=python:bases:chaines#python_-_chaines_de_caracteres\" target=\"_blank\">Les chaînes de caractères en Python</a></button>"
   ]
  },
  {
   "cell_type": "markdown",
   "metadata": {},
   "source": [
    "---\n",
    "\n",
    "**Sommaire**\n",
    "<ol>\n",
    "    <li>Présentation</li>\n",
    "    <ol>\n",
    "        <li>Opérations bit à bit</li>\n",
    "        <li>Architecture matérielle : UAL</li>\n",
    "        <li>Opérations bit à bit en Python</li>\n",
    "    </ol>\n",
    "    <li>Travail demandé\n",
    "        <ol>\n",
    "            <li>Algorithmique</li>\n",
    "            <li>Codage</li>\n",
    "        </ol>\n",
    "    </li>\n",
    "</ol>\n",
    "\n",
    "---"
   ]
  },
  {
   "cell_type": "markdown",
   "metadata": {},
   "source": [
    "## 1. Présentation\n",
    "**Source** : <a href=\"https://fr.wikipedia.org/wiki/Op%C3%A9ration_bit_%C3%A0_bit\">Wikipédia</a>\n",
    "\n",
    "### 1A. Opérations bit à bit\n",
    "En logique, une opération **bit à bit** est un calcul manipulant les données directement au niveau des bits, selon une <a href=\"https://fr.wikipedia.org/wiki/Alg%C3%A8bre_de_Boole_(logique)\" target=\"_blank\">arithmétique booléenne</a>. Elles sont utiles dès qu'il s'agit de manipuler les données à bas niveau : codages, couches basses du réseau (par exemple TCP/IP), cryptographie.\n",
    "\n",
    "#### Opérateurs\n",
    "Les <a href=\"https://fr.wikipedia.org/wiki/Fonction_logique#Fonctions_logiques_%C3%A9l%C3%A9mentaires\" target=\"_blank\"> opérateurs élémentaires</a> sont des opérations binaires réalisées simultanément sur l'ensemble des bits d'un mot de manière indépendante. Ainsi, la valeur du bit de rang n dans le résultat ne dépend que des valeurs des bits de même rang dans les opérandes d'entrée.\n",
    "\n",
    "##### NON bit à bit\n",
    "<p>Chaque bit est inversé.</p><br>\n",
    "<i>Exemple</i> <br>\n",
    "S = <b>NON</b> 0111<sub>2</sub> = 1000<sub>2</sub> (sur 4 bits, NON 7<sub>10</sub> = 8<sub>10</sub>)\n",
    "\n",
    "\n",
    "##### ET bit à bit de deux expressions\n",
    "<img src=\"img/ET_bit_a_bit.jpg\" style=\"float:right\" title=\"ET logique bit à bit\">\n",
    "\n",
    "<i>Exemple</i> <br>\n",
    "N1 = 01001100<sub>2</sub> = 76<sub>10</sub>, N2 = 00001100<sub>2</sub> = 12<sub>10</sub> <br>\n",
    "S = N1 <b>ET</b> N2 = 00001100<sub>2</sub> (sur 8 bits, 76<sub>10</sub> ET 12<sub>10</sub> = 12<sub>10</sub>)\n",
    "\n",
    "\n",
    "##### OU bit à bit de deux expressions\n",
    "\n",
    "<i>Exemple</i> <br>\n",
    "N1 = 00001000<sub>2</sub> = 8<sub>10</sub>, N2 = 01010101<sub>2</sub> = 85<sub>10</sub> <br>\n",
    "S = N1 <b>OU</b> N2 = 01011101<sub>2</sub> (sur 8 bits, 8<sub>10</sub> OU 85<sub>10</sub> = 93<sub>10</sub>)\n",
    "\n",
    "\n",
    "##### OU EXCLUSIF bit à bit de deux expressions\n",
    "\n",
    "<i>Exemple</i> <br>\n",
    "N1 = 11001001<sub>2</sub> = 201<sub>10</sub>, N2 = 00001111<sub>2</sub> = 15<sub>10</sub> <br>\n",
    "S = N1 <b>OU EXCLUSIF</b> N2 = 11000110<sub>2</sub> (sur 8 bits, 201<sub>10</sub> OU EXCLUSIF 15<sub>10</sub> = 198<sub>10</sub>)"
   ]
  },
  {
   "cell_type": "markdown",
   "metadata": {},
   "source": [
    "<p style=\"color:red; font-size:14px; text-align:center\">Les opérations ci-dessus peuvent être vérifiées avec la <b>calculatrice Windows</b> en mode programmeur.</p>"
   ]
  },
  {
   "cell_type": "markdown",
   "metadata": {},
   "source": [
    "### 1.B Architecture matérielle : UAL\n",
    "\n",
    "#### Unité arithmétique et logique\n",
    "L'unité arithmétique et logique (**UAL**, en anglais arithmetic–logic unit, ALU), est l'organe de l'ordinateur chargé d'effectuer les calculs. Le plus souvent, l'UAL est incluse dans l'<a href=\"https://fr.wikipedia.org/wiki/Processeur\" target=\"_blank\">unité centrale de traitement</a> ou le <a href=\"https://fr.wikipedia.org/wiki/Microprocesseur\" target=\"_blank\">microprocesseur</a>.\n",
    "\n",
    "Les UAL effectuent des **opérations** :\n",
    "<ul>\n",
    "    <li>Les opérations arithmétiques : addition, soustraction, changement de signe, etc.</li>\n",
    "    <li><b>Les opérations logiques : compléments à un, complément à deux, ET, OU, OU-exclusif, NON, NON-et, etc.<b></li>\n",
    "    <li>Les comparaisons : test d'égalité, supérieur, inférieur, et leurs équivalents « ou égal ».</li>\n",
    "    <li>Des décalages et rotations ...</li>\n",
    "</ul>\n",
    "\n",
    "<p><i>Exemple d'architecture matérielle : <b>von Neumann</b></i></p>\n",
    "\n",
    "<div style=\"text-align: center\" ><img src=\"img/registres.jpg\"></div>div>\n",
    "\n",
    "#### Logigramme d'un ET bit à bit\n",
    "\n",
    "<div style=\"text-align: center\" ><img src=\"img/loginET.png\"></div>"
   ]
  },
  {
   "cell_type": "markdown",
   "metadata": {},
   "source": [
    "### 1.C Opérations bit à bit en Python\n",
    "Python dispose d'opérateurs <strong>bit-à-bit</strong> (bitwise) qui agissent directement sur les nombres au niveau des <em>bits</em>. \n",
    "\n",
    "Ces opérateurs sont au nombre de six :<br>\n",
    "<img src=\"img/ET.png\" style=\"float:right\">\n",
    "'<strong>&</strong>': ET. <br>\n",
    "'<strong>|</strong>': OU.  <br>\n",
    "'<strong>^</strong>': OU EXCLUSIF.  <br>\n",
    "'<strong>~</strong>': INVERSION des bits du nombre situé à droite.  <br>\n",
    "'<strong>»</strong>': DECALAGE d'un bit à DROITE (correspond à une division par 2)  <br>\n",
    "'<strong>«</strong>': DECALAGE d'un bit à GAUCHE (correspond à une multiplication par 2)  <br>"
   ]
  },
  {
   "cell_type": "code",
   "execution_count": null,
   "metadata": {},
   "outputs": [],
   "source": [
    "# Exemple à tester\n",
    "7&6"
   ]
  },
  {
   "cell_type": "markdown",
   "metadata": {},
   "source": [
    "#### La fonction native bin()\n",
    "La fonction native (built-in) **bin** convertit un nombre entier en binaire dans une chaîne avec le préfixe 0b. "
   ]
  },
  {
   "cell_type": "code",
   "execution_count": null,
   "metadata": {},
   "outputs": [],
   "source": [
    "# Exemples à tester\n",
    "print(\"bin(6) = \", bin(6))\n",
    "#0b identifie la valeur qui suit comme étant un nombre binaire\n",
    "print(\"bin(5 & 12) = bin(0b0101 & 0b1100)\",bin(0b0101 & 0b1100))"
   ]
  },
  {
   "cell_type": "markdown",
   "metadata": {},
   "source": [
    "<table>\n",
    "    <tr>\n",
    "        <td><img src=\"img/remarquemin.png\" width=\"30px\"></td>\n",
    "        <td><p style=\"font-size:14px;\"><strong>Comme on le voit ci-dessus, Python n'affiche les <em>bits</em> d'un nombre binaire qu'à partir du premier <em>bit</em> non nul !!!</strong></p></td>\n",
    "    </tr>\n",
    "</table>   "
   ]
  },
  {
   "cell_type": "markdown",
   "metadata": {},
   "source": [
    "## 2. Travail demandé\n",
    "**Source**: <a href=\"https://www.editions-ellipses.fr/accueil/118-specialite-numerique-et-sciences-informatiques-30-lecons-avec-exercices-corriges-premiere-nouveaux-programmes-9782340033641.html\" target=\"_blank\">Numérique et sciences informatiques 1<sup>er</sup>- Ellipses</a> \n",
    "\n",
    "#### Enoncé\n",
    "> **Ecrire** un programme Python qui affiche la table d'une des opérations logiques (ET, OU, OU-EXCLUSIF) pour tous les entiers de <em>n bits</em>. <br> \n",
    "\n",
    "#### Exemple de résultat attendu\n",
    "Pour l'opération **ET bit à bit** et **n = 2**, le programme doit afficher :\n",
    "\n",
    "<div style=\"text-align: center\" ><img src=\"img/ExempleET.jpg\"></div>\n",
    "\n",
    "#### Etapes proposées\n",
    "- Ecrire un algorithme (§2.A)\n",
    "- Coder le programme en Python (§2.B)\n",
    "\n",
    "<span style=\"color:red\"><strong>Remarque</strong> : on se limitera à n = 3 dans les tests</span>.<br>"
   ]
  },
  {
   "cell_type": "markdown",
   "metadata": {},
   "source": [
    "### 2.A Algorithmique"
   ]
  },
  {
   "cell_type": "markdown",
   "metadata": {},
   "source": [
    "> **Activité 1**\n",
    ">\n",
    "> **Proposez** un algorithme affichant uniquement les résultats d'une table ET pour n = 2  (**valeurs en gras** dans la table ci-dessus)."
   ]
  },
  {
   "cell_type": "raw",
   "metadata": {},
   "source": [
    "Version 1 : sans mise en forme de la table\n",
    "-----------------------------------------\n",
    "Algorithme TablesLogique\n",
    "\n",
    "début\n",
    "    pour i variant de 0 à 3 faire                   \n",
    "        pour j variant de 0 à 3 faire\n",
    "            Afficher(i ET j)\n",
    "        fin pour\n",
    "    fin pour\n",
    "fin"
   ]
  },
  {
   "cell_type": "raw",
   "metadata": {},
   "source": [
    "Version 2 : avec mise en forme de la table\n",
    "-----------------------------------------\n",
    "Algorithme TablesLogique\n",
    "var\n",
    "n : entier                     ; nombre de bits des entiers i et j\n",
    "ligneTable : vecteur vide      ; ligne à afficher\n",
    "\n",
    "début\n",
    "    pour i variant de 0 à 2^n-1 faire                      ; on remplace 3 par 2^n-1 pour généraliser à n\n",
    "        pour j variant de 0 à 2^n-1 faire                  ; on remplace 3 par 2^n-1 pour généraliser à n\n",
    "            Ajouter la représentation binaire de (i ET j) à ligneTable\n",
    "        fin pour\n",
    "        Afficher ligneTable\n",
    "        Vider ligneTable\n",
    "    fin pour\n",
    "fin"
   ]
  },
  {
   "cell_type": "markdown",
   "metadata": {},
   "source": [
    "### 2.B Codage"
   ]
  },
  {
   "cell_type": "markdown",
   "metadata": {},
   "source": [
    "On demande **quatre versions** du programme. Celles-ci sont décrites dans les **activités 2 à 5** ci-dessous."
   ]
  },
  {
   "cell_type": "markdown",
   "metadata": {},
   "source": [
    "> **Activité 2** \n",
    ">\n",
    "> La **version 1** doit uniquement afficher les résultats de l'opération **ET** avec **n=2**.\n",
    ">\n",
    "> <em>Ressource</em> : <a href=\"https://webge.fr/dokuwiki/doku.php?id=python:bases:chaines\" target=\"_blank\">Les chaînes de caractères.</a>\n",
    ">\n",
    "><em>Résultat attendu</em>\n",
    ">\n",
    ">['0b0', '0b0', '0b0', '0b0']\n",
    ">\n",
    ">['0b0', '0b1', '0b0', '0b1']\n",
    ">\n",
    ">['0b0', '0b0', '0b10', '0b10']\n",
    ">\n",
    ">['0b0', '0b1', '0b10', '0b11']"
   ]
  },
  {
   "cell_type": "code",
   "execution_count": null,
   "metadata": {},
   "outputs": [],
   "source": [
    "# Version 1\n",
    "# A compléter\n",
    "\n",
    "ligne=[] # ligne dans la table\n",
    "\n",
    "for i in range(4):\n",
    "    for j in range(4):\n",
    "        ligne.append(bin(i&j))\n",
    "    print(ligne)\n",
    "    ligne.clear()"
   ]
  },
  {
   "cell_type": "markdown",
   "metadata": {},
   "source": [
    "> **Activité 3** \n",
    ">\n",
    ">Dans la **version 2** (à coder en reprenant la version 1), les nombres s'affichent avec **n** chiffres (opération **ET**, **n=2**)\n",
    ">\n",
    "><em>Ressources</em> : <a href=\"https://waytolearnx.com/2020/07/python-la-methode-string-zfill.html\" target=\"_blank\">La méthode String zfill()</a> et <a href=\"https://webge.fr/dokuwiki/doku.php?id=python:bases:chaines\" target=\"_blank\">Les chaînes de caractères.</a>\n",
    ">\n",
    "><em>Résultat attendu</em>\n",
    ">\n",
    ">['00', '00', '00', '00']\n",
    ">\n",
    ">['00', '01', '00', '01']\n",
    ">\n",
    ">['00', '00', '10', '10']\n",
    ">\n",
    ">['00', '01', '10', '11']"
   ]
  },
  {
   "cell_type": "code",
   "execution_count": null,
   "metadata": {},
   "outputs": [],
   "source": [
    "# Version 2 \n",
    "# A compléter\n",
    "\n",
    "ligne=[] # ligne dans la table\n",
    "\n",
    "for i in range (4):\n",
    "    for j in range(4):\n",
    "        resultat = bin(i&j)[2:]\n",
    "        ligne.append(resultat.zfill(2))\n",
    "    print(ligne)\n",
    "    ligne.clear()"
   ]
  },
  {
   "cell_type": "markdown",
   "metadata": {},
   "source": [
    "> **Activité 4** \n",
    ">\n",
    "> Dans sa **version 3** (à coder en reprenant la version 2), le programme affiche une table **ET** de **3 bits** et présente les valeurs à traiter sur la première ligne et la première colonne de la table. \n",
    ">\n",
    "><em>Résultat attendu (partiel) pour n=3</em>\n",
    ">\n",
    ">['___', '000', '001', '010', '011', '100', '101', '110', '111']\n",
    ">\n",
    ">['000', '000', '000', '000', '000', '000', '000', '000', '000']\n",
    ">\n",
    ">['001', '000', '001', '000', '001', '000', '001', '000', '001']\n",
    ">\n",
    ">['010', '000', '000', '010', '010', '000', '000', '010', '010']\n",
    ">\n",
    ">etc."
   ]
  },
  {
   "cell_type": "code",
   "execution_count": null,
   "metadata": {},
   "outputs": [],
   "source": [
    "# Version 3\n",
    "# A compléter\n",
    "\n",
    "ligne=[] # ligne dans la table\n",
    "n=3 # nombre de bits des valeurs à traiter\n",
    "\n",
    "for i in range (pow(2,n)+1):\n",
    "    for j in range(pow(2,n)+1):\n",
    "        if i==0:\n",
    "            if j==0:\n",
    "                ligne.append(n*\"_\")\n",
    "            else:\n",
    "                ligne.append(bin(j-1)[2:].zfill(n))\n",
    "        else:\n",
    "            if j==0:\n",
    "                ligne.append(bin(i-1)[2:].zfill(n))\n",
    "            else:\n",
    "                resultat = bin(i-1&j-1)[2:]\n",
    "                ligne.append(resultat.zfill(n))\n",
    "    print(ligne)\n",
    "    ligne.clear()"
   ]
  },
  {
   "cell_type": "markdown",
   "metadata": {},
   "source": [
    "> **Activité 5** \n",
    ">\n",
    ">Dans sa **version 4** (à coder en reprenant la version 3), le programme traite les opérations **ET**, **OU** et **OU-EXCLUSIF**. Le choix de l'opération se fait à l'aide d'une variable _operation_.\n",
    ">\n",
    "><em>Résultat attendu (partiel) pour n=3, l'opération est un OU-EXCLUSIF</em>\n",
    ">\n",
    ">OU-EXCLUSIF bit-à-bit\n",
    ">\n",
    ">['___', '000', '001', '010', '011', '100', '101', '110', '111']\n",
    ">\n",
    ">['000', '000', '001', '010', '011', '100', '101', '110', '111']\n",
    ">\n",
    ">['001', '001', '000', '011', '010', '101', '100', '111', '110']\n",
    ">\n",
    ">etc."
   ]
  },
  {
   "cell_type": "code",
   "execution_count": null,
   "metadata": {},
   "outputs": [],
   "source": [
    "# Version 4\n",
    "\n",
    "operation=2 # opération à traiter (0->&, 1->|, 2->^)\n",
    "\n",
    "# A compléter\n",
    "ligne=[] # ligne dans la table\n",
    "n=3 # nombre de bits des valeurs à traiter\n",
    "\n",
    "\n",
    "if operation==0:\n",
    "    print(\"ET bit-à-bit\")\n",
    "elif operation==1:\n",
    "    print(\"OU bit-à-bit\")\n",
    "elif operation==2:\n",
    "    print(\"OU-EXCLUSIF bit-à-bit\")\n",
    "    \n",
    "for i in range (pow(2,n)+1):\n",
    "    for j in range(pow(2,n)+1):\n",
    "        if i==0:\n",
    "            if j==0:\n",
    "                ligne.append(n*\"_\")\n",
    "            else:\n",
    "                ligne.append(bin(j-1)[2:].zfill(n))\n",
    "        else:\n",
    "            if j==0:\n",
    "                ligne.append(bin(i-1)[2:].zfill(n))\n",
    "            else:\n",
    "                if operation==0:\n",
    "                    resultat = bin(i-1&j-1)[2:]\n",
    "                elif operation==1:\n",
    "                    resultat = bin(i-1|j-1)[2:]\n",
    "                elif operation==2:\n",
    "                    resultat = bin(i-1^j-1)[2:]\n",
    "                ligne.append(resultat.zfill(n))\n",
    "    print(ligne)\n",
    "    ligne.clear()"
   ]
  },
  {
   "cell_type": "code",
   "execution_count": null,
   "metadata": {},
   "outputs": [],
   "source": []
  }
 ],
 "metadata": {
  "kernelspec": {
   "display_name": "Python 3 (ipykernel)",
   "language": "python",
   "name": "python3"
  },
  "language_info": {
   "codemirror_mode": {
    "name": "ipython",
    "version": 3
   },
   "file_extension": ".py",
   "mimetype": "text/x-python",
   "name": "python",
   "nbconvert_exporter": "python",
   "pygments_lexer": "ipython3",
   "version": "3.12.4"
  }
 },
 "nbformat": 4,
 "nbformat_minor": 4
}
